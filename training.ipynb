{
 "cells": [
  {
   "cell_type": "markdown",
   "id": "18fd3d39-ed99-4481-b384-773afd06d6ee",
   "metadata": {
    "tags": []
   },
   "source": [
    "## Постановка задачи\n",
    "\n",
    "Дан набор файлов с аудиозаписью речи в формате .wav, для каждого из которых известен пол говорящего (обучающая выборка). Также дан набор аналогичных файлов, для которых пол говорящего не известен (тестовая выборка).\n",
    "\n",
    "__Задача__: определить метку пола говорящего для каждого аудиофайла из тестовой выборки с долей верных ответов более 98%.\n",
    "\n",
    "Наборы данных доступны по ссылкам: [обучение](https://yadi.sk/d/IUUTPJFOfwn_OQ) и [тест](https://yadi.sk/d/K8Z-gQbspmxkhw)."
   ]
  },
  {
   "cell_type": "markdown",
   "id": "119a0173-6df4-4262-8f12-ab6d940ab716",
   "metadata": {},
   "source": [
    "## Инструменты решения\n",
    "Для запуска проекта потребуются следующие библиотеки для языка python3:\n",
    "- numpy\n",
    "- pandas\n",
    "- torch\n",
    "- torchaudio\n",
    "- sklearn\n",
    "- matplotlib\n",
    "- tqdm\n",
    "\n",
    "Для ускорения процесса обучения рекомендуется использовать Nvidia GPU c поддержкой CUDA. "
   ]
  },
  {
   "cell_type": "markdown",
   "id": "403a00e7-b3f3-423f-95ce-30daedb23bda",
   "metadata": {},
   "source": [
    "## Решение"
   ]
  },
  {
   "cell_type": "markdown",
   "id": "352ea798-8f43-4097-a48d-4e95549f2609",
   "metadata": {},
   "source": [
    "Фиксируем random seed для воспроизводимости результатов."
   ]
  },
  {
   "cell_type": "code",
   "execution_count": 1,
   "id": "71722c35-37f4-4290-838a-0b272e58bc8a",
   "metadata": {},
   "outputs": [],
   "source": [
    "import torch\n",
    "import numpy as np\n",
    "import random\n",
    "\n",
    "def set_random_seed(seed):\n",
    "    torch.backends.cudnn.deterministic = True\n",
    "    torch.manual_seed(seed)\n",
    "    torch.cuda.manual_seed(seed)\n",
    "    np.random.seed(seed)\n",
    "    random.seed(seed)\n",
    "\n",
    "set_random_seed(57575757)"
   ]
  },
  {
   "cell_type": "markdown",
   "id": "e5f6d18e-09e3-4c86-a442-4220129fffb0",
   "metadata": {},
   "source": [
    "__Задача:__ эффективное представление данных. Файлы в формате .wav нет возможности обрабатывать сами по себе, для начала необходимо извлечь ключевые признаки.\n",
    "\n",
    "__Решение:__ в первую очередь, файлы в формате .wav считываем ввиде временного ряда записанной звуковой волны (`torchaudio.load`). К такому представлению можно пытаться напрямую применять алгоритмы машинного обучения, но на практике можно применить преобразование Фурье, чтобы получить разложение сигнала на отдельные частоты: так данные становятся более дискретными, что удачно. Полученное представление называется спектрограммой, мы же будем применять мел-спектрограмму (`torchaudio.transforms.MelSpectrogram`), которая отличается от обыкновенной спектрограммы исключительно шкалированием, имитирующее восприятие звуковой волны человеческим ухом.\n",
    "\n",
    "Данных много, и они занимают большой объем памяти, поэтому могут не поместиться в оперативную память целиком. Для этого в классе `AliceDataset` мы динамически загружаем нужные сэмплы с диска в несколько потоков.\n",
    "\n",
    "__Задача:__ оценить качество модели, когда нет разметки тестовой выборки.\n",
    "\n",
    "__Решение:__ разделим размеченные данные на обучающую и валидационную выборку в соотношении 9 к 1. В процессе обучения модель не использует валидационную выборку для подбора параметров.\n",
    "\n",
    "__Задача:__ что дальше делать с мел-спектрограммой?\n",
    "\n",
    "__Решение:__ мел-спетрограмма - это матрица, размер которой зависит от частоты дискретизации и длины сэмпла. Зачастую ее визуализирует с помощью двумерного графика heat-map, что хорошо демонстрирует важное свойство: локальность. Для работы с локальными данными мы будем использовать сверточную нейронную сеть - архитектуру, популярную для работы как раз с изображениями.\n",
    "\n",
    "__Задача:__ мел-спектрограммы имеют разный размер, как с ними работать?\n",
    "\n",
    "__Решение:__ в рамках одного батча из 160 сэмплов дополним каждую мел-спектрограмму нулями (`torch.nn.utils.rnn.pad_sequence`), чтобы в одном батче данные были одного размера (иначе их нельзя эффективно хранить в памяти). Сами сверточные слои не зависят от фиксированного размера данных (только от фиксированного числа каналов), а вот блок полносвязного классификатора требует матрицы одной формы. Для этого воспользуемся техникой, которая в частности применяется в нейронных сетях ResNet: добавим average pooling слой (`nn.AdaptiveAvgPool2d`), который из матрицы формата $B\\times C\\times W\\times H$ (где $B$ -- размер батча, $C$ -- число каналов, $W$ -- ширина, $H$ -- высота) конструирует матрицу размера $B\\times C\\times W_1\\times H_1$ для произвольных наперед заданных $W_1$ и $H_1$."
   ]
  },
  {
   "cell_type": "code",
   "execution_count": 2,
   "id": "d5ac8c06-f185-42a3-9746-722c30e45124",
   "metadata": {},
   "outputs": [],
   "source": [
    "import torchaudio\n",
    "import torchaudio.transforms as T\n",
    "from torch.nn.utils.rnn import pad_sequence\n",
    "from torch.utils.data import Dataset, DataLoader, SubsetRandomSampler\n",
    "import os\n",
    "import pandas as pd\n",
    "from sklearn.model_selection import train_test_split\n",
    "\n",
    "\n",
    "class AliceDataset(Dataset):\n",
    "    def __init__(self, folder, transforms=T.MelSpectrogram(n_mels=64), load_targets=True):\n",
    "        self.folder = folder\n",
    "        self.transforms = transforms\n",
    "        self.targets = pd.read_csv(os.path.join(self.folder, 'targets.tsv'), sep='\\t', index_col=0, header=None).squeeze() if load_targets else None\n",
    "        self.files = []\n",
    "        for filename in os.listdir(folder):\n",
    "            if filename.endswith('.wav'):\n",
    "                self.files.append(filename)\n",
    "    \n",
    "    def __len__(self):\n",
    "        return len(self.files)\n",
    "    \n",
    "    def __getitem__(self, idx):\n",
    "        filename = self.files[idx]\n",
    "        audio, _ = torchaudio.load(os.path.join(self.folder, filename))\n",
    "        target = self.targets.loc[filename.replace('.wav', '')] if self.targets is not None else None\n",
    "        return self.transforms(audio), target\n",
    "\n",
    "def collate_fn(batch):\n",
    "    return pad_sequence([item[0].permute(2, 1, 0) for item in batch], batch_first=True).permute(0, 3, 2, 1), torch.tensor([item[1] for item in batch]) if batch[0][1] is not None else None\n",
    "\n",
    "train_dataset = AliceDataset('train')\n",
    "train_idx, val_idx = train_test_split(np.arange(len(train_dataset)), test_size=0.1, shuffle=True, stratify=train_dataset.targets)\n",
    "\n",
    "train_sampler = SubsetRandomSampler(train_idx)\n",
    "val_sampler = SubsetRandomSampler(val_idx)\n",
    "\n",
    "train_dataloader = DataLoader(train_dataset, pin_memory=True, num_workers=8, batch_size=160, collate_fn=collate_fn, sampler=train_sampler)\n",
    "val_dataloader = DataLoader(train_dataset, pin_memory=True, num_workers=8, batch_size=160, collate_fn=collate_fn, sampler=val_sampler)\n",
    "test_dataset = AliceDataset('test', load_targets=False)\n",
    "test_dataloader = DataLoader(test_dataset, pin_memory=True, num_workers=8, batch_size=160, collate_fn=collate_fn)"
   ]
  },
  {
   "cell_type": "markdown",
   "id": "f109f4d6-6b93-48b0-9e1f-3ee07de94daa",
   "metadata": {},
   "source": [
    "## Структура сети\n",
    "На данной задаче хорошие результаты показывает классическая архитектура CNN, вдохновленная ResNet. Последовательно применяется 5 сверточных блоков, average pooling и перцептрон для классификации, с несколькими нелинейностями типа ReLU и Tanh, а также Dropout слой для предотвращения переобучения."
   ]
  },
  {
   "cell_type": "code",
   "execution_count": 3,
   "id": "5daccb42-3f4d-49a3-856b-d0717a57f57c",
   "metadata": {},
   "outputs": [],
   "source": [
    "import torch.nn as nn\n",
    "\n",
    "class CNN(nn.Module):\n",
    "    def __init__(self):\n",
    "        super().__init__()\n",
    "        self.block1 = nn.Sequential(\n",
    "            nn.Conv2d(1, 16, kernel_size=3, padding=2),\n",
    "            nn.MaxPool2d(2),\n",
    "            nn.ReLU(),\n",
    "            nn.BatchNorm2d(16),            \n",
    "        )\n",
    "        \n",
    "        self.block2 = nn.Sequential(\n",
    "            nn.Conv2d(16, 32, kernel_size=3, padding=1),\n",
    "            nn.MaxPool2d(2),\n",
    "            nn.ReLU(),\n",
    "            nn.BatchNorm2d(32),            \n",
    "        )\n",
    "        \n",
    "        self.block3 = nn.Sequential(\n",
    "            nn.Conv2d(32, 64, kernel_size=3, padding=1),\n",
    "            nn.MaxPool2d(2),\n",
    "            nn.ReLU(),\n",
    "            nn.BatchNorm2d(64),            \n",
    "        )\n",
    "        \n",
    "        self.block4 = nn.Sequential(\n",
    "            nn.Conv2d(64, 128, kernel_size=3, padding=1),\n",
    "            nn.MaxPool2d(2),\n",
    "            nn.ReLU(),\n",
    "            nn.BatchNorm2d(128),            \n",
    "        )\n",
    "        \n",
    "        self.block5 = nn.Sequential(\n",
    "            nn.Conv2d(128, 256, kernel_size=3, padding=1),\n",
    "            nn.MaxPool2d(2),\n",
    "            nn.ReLU(),\n",
    "            nn.BatchNorm2d(256),            \n",
    "        )\n",
    "        \n",
    "        self.classifier = nn.Sequential(\n",
    "            nn.AdaptiveAvgPool2d((1, 1)),\n",
    "            nn.Flatten(),\n",
    "            nn.Linear(256, 512),\n",
    "            nn.ReLU(),\n",
    "            nn.Linear(512, 256),\n",
    "            nn.Tanh(),\n",
    "            nn.Dropout(0.35),\n",
    "            nn.Linear(256, 2)\n",
    "        )    \n",
    "\n",
    "    def forward(self, x):\n",
    "        x = self.block1(x)\n",
    "        x = self.block2(x)\n",
    "        x = self.block3(x)\n",
    "        x = self.block4(x)\n",
    "        x = self.block5(x)\n",
    "        return self.classifier(x)"
   ]
  },
  {
   "cell_type": "code",
   "execution_count": 4,
   "id": "6259cc7a-9448-4010-bb6f-09afb38fddab",
   "metadata": {},
   "outputs": [],
   "source": [
    "from sklearn.metrics import accuracy_score\n",
    "from IPython.display import clear_output\n",
    "import matplotlib.pyplot as plt\n",
    "import tqdm\n",
    "\n",
    "def train_one_epoch(model, train_dataloader, criterion, optimizer, device=\"cuda:0\"):\n",
    "    losses = []\n",
    "    progress_bar = tqdm.notebook.tqdm(train_dataloader)\n",
    "    model.to(device).train()\n",
    "    for (inputs, labels) in progress_bar:\n",
    "        inputs, labels = inputs.to(device), labels.to(device)\n",
    "        outputs = model(inputs)\n",
    "        loss = criterion(outputs, labels)\n",
    "        losses.append(loss.detach())\n",
    "        loss = loss.mean()\n",
    "        loss.backward()\n",
    "        optimizer.step()\n",
    "        optimizer.zero_grad()\n",
    "        progress_bar.set_description(f'Train loss = {loss.item():.4f}')\n",
    "    return torch.cat(losses).cpu()\n",
    "\n",
    "def eval_one_epoch(model, val_dataloder, criterion, device=\"cuda:0\"):\n",
    "    predicted_classes = []\n",
    "    true_classes = []\n",
    "    losses = []\n",
    "    progress_bar = tqdm.notebook.tqdm(val_dataloader)\n",
    "    model.to(device).eval()\n",
    "    with torch.no_grad():\n",
    "        for inputs, labels in progress_bar:\n",
    "            inputs, labels = inputs.to(device), labels.to(device)\n",
    "            outputs = model(inputs)\n",
    "            loss = criterion(outputs, labels)\n",
    "            losses.append(loss)\n",
    "            loss = loss.mean()\n",
    "            predicted_classes.append(outputs.argmax(dim=1))\n",
    "            true_classes.append(labels)\n",
    "            progress_bar.set_description(f'Val loss = {loss.item():.4f}')\n",
    "    return torch.cat(losses).cpu(), torch.cat(predicted_classes).cpu(), torch.cat(true_classes).cpu()\n",
    "\n",
    "\n",
    "def train(model, train_dataloader, val_dataloader, criterion, optimizer, device=\"cuda:0\", n_epochs=10, scheduler=None):\n",
    "    best_accuracy = 0\n",
    "    train_losses = []\n",
    "    val_losses = []\n",
    "    for epoch in range(n_epochs):\n",
    "        train_losses_ = train_one_epoch(model, train_dataloader, criterion, optimizer, device)\n",
    "        train_losses.append(train_losses_.mean())\n",
    "        val_losses_, val_predicted_classes, val_true_classes = eval_one_epoch(model, val_dataloader, criterion, device)\n",
    "        val_losses.append(val_losses_.mean())\n",
    "        last_accuracy = accuracy_score(val_true_classes, val_predicted_classes)\n",
    "        best_accuracy = max(best_accuracy, last_accuracy)\n",
    "        clear_output(wait=True)\n",
    "        if scheduler is not None:\n",
    "            scheduler.step(last_accuracy)\n",
    "        plt.plot(train_losses, label='train')\n",
    "        plt.plot(val_losses, label='val')\n",
    "        plt.legend()\n",
    "        plt.title(f'Cross Entropy Loss on epoch {epoch}')\n",
    "        plt.show()\n",
    "        print(f'Last val accuracy = {last_accuracy}')\n",
    "        print(f'Best val accuracy = {best_accuracy}')"
   ]
  },
  {
   "cell_type": "markdown",
   "id": "a8afe796-47ff-44b6-b2c7-99d8cfa3e0a6",
   "metadata": {},
   "source": [
    "Для задачи классификации логично использовать кросс энтропию (`nn.CrossEntropyLoss`) в качестве функции потерь. Для улучшения результатов модели мы также будем использовать scheduler, который уменьшает learning rate оптимизатора, если доля верных ответов на валидационной выборке долго не растет. Это позволяет быстрее и точнее подобрать параметры, не жертвуя чем-то одним. У оптимизатора `AdamW` также указываем параметр l2-регуляризации `weight_decay` для предотвращения переобучения. В процессе будем строить график значения функции потерь на обучающей и тестовой выборке, а также логировать долю верных ответов на валидационной выборке."
   ]
  },
  {
   "cell_type": "code",
   "execution_count": 5,
   "id": "b38a6f74-2973-4f2b-908c-01593f0c6f12",
   "metadata": {},
   "outputs": [
    {
     "name": "stdout",
     "output_type": "stream",
     "text": [
      "Using device: cuda:0\n"
     ]
    }
   ],
   "source": [
    "device = torch.device(\"cuda:0\") if torch.cuda.is_available() else torch.device(\"cpu\")\n",
    "print(f'Using device: {device}')\n",
    "model = CNN().to(device)\n",
    "optimizer = torch.optim.AdamW(model.parameters(), lr=1e-3, weight_decay=1e-4)\n",
    "criterion = nn.CrossEntropyLoss(reduction='none')\n",
    "scheduler = torch.optim.lr_scheduler.ReduceLROnPlateau(optimizer, mode='max', patience=2, cooldown=2, threshold=1e-2, threshold_mode='abs', min_lr=1e-6, verbose=True)\n",
    "n_epochs = 15"
   ]
  },
  {
   "cell_type": "code",
   "execution_count": 6,
   "id": "8c1e519d-74fe-44d7-a716-10bf78d613fd",
   "metadata": {},
   "outputs": [
    {
     "data": {
      "image/png": "[encoded data removed]",
      "text/plain": [
       "<Figure size 432x288 with 1 Axes>"
      ]
     },
     "metadata": {
      "needs_background": "light"
     },
     "output_type": "display_data"
    },
    {
     "name": "stdout",
     "output_type": "stream",
     "text": [
      "Last val accuracy = 0.996413199426112\n",
      "Best val accuracy = 0.9971305595408895\n"
     ]
    }
   ],
   "source": [
    "train(model, train_dataloader, val_dataloader, criterion, optimizer, device, n_epochs, scheduler)"
   ]
  },
  {
   "cell_type": "markdown",
   "id": "0c0ad878-6945-487e-ba8e-7c685f025b0b",
   "metadata": {},
   "source": [
    "Предскажем метки тестовой выборки и сохраним их в файл `test_targets.tsv`."
   ]
  },
  {
   "cell_type": "code",
   "execution_count": 7,
   "id": "398e6b28-be4a-4950-969d-9c500bbc7abe",
   "metadata": {},
   "outputs": [
    {
     "data": {
      "application/vnd.jupyter.widget-view+json": {
       "model_id": "c04d3fc85ae64474827df54cb485d77e",
       "version_major": 2,
       "version_minor": 0
      },
      "text/plain": [
       "  0%|          | 0/22 [00:00<?, ?it/s]"
      ]
     },
     "metadata": {},
     "output_type": "display_data"
    }
   ],
   "source": [
    "def predict(model, test_dataloder, criterion, device=\"cuda:0\"):\n",
    "    predicted_classes = []\n",
    "    progress_bar = tqdm.notebook.tqdm(test_dataloader)\n",
    "    model.to(device).eval()\n",
    "    with torch.no_grad():\n",
    "        for inputs, labels in progress_bar:\n",
    "            inputs = inputs.to(device)\n",
    "            outputs = model(inputs)\n",
    "            predicted_classes.append(outputs.argmax(dim=1))\n",
    "    return torch.cat(predicted_classes).cpu()\n",
    "\n",
    "pred = predict(model, test_dataloader, criterion, device)\n",
    "pd.Series(pred, index=map(lambda s: s.replace('.wav', ''), test_dataset.files)).to_csv('test_targets.tsv', sep='\\t', header=None)"
   ]
  },
  {
   "cell_type": "markdown",
   "id": "130c9032-2731-46ab-b69b-ad1cd79dff7b",
   "metadata": {},
   "source": [
    "Сохраняем модель:"
   ]
  },
  {
   "cell_type": "code",
   "execution_count": 13,
   "id": "30f09002-3de7-402f-b9b3-1f8cb60d05ef",
   "metadata": {},
   "outputs": [],
   "source": [
    "model.cpu()\n",
    "model_scripted = torch.jit.script(model)\n",
    "model_scripted.save('model_scripted.pt')"
   ]
  },
  {
   "cell_type": "markdown",
   "id": "012fb198-5673-4e99-a3f4-95835ec18ae1",
   "metadata": {},
   "source": [
    "## Результаты\n",
    "На валиадационной выборке доля верных ответов превышает 99%. К разметке тестовой выборки у меня нет доступа, но автоматическая тестирующая система подтверждает, что задача выполнена успешно, то есть доля верных ответов на тестовой выборке как минимум 98%."
   ]
  }
 ],
 "metadata": {
  "kernelspec": {
   "display_name": "Python 3 (ipykernel)",
   "language": "python",
   "name": "python3"
  },
  "language_info": {
   "codemirror_mode": {
    "name": "ipython",
    "version": 3
   },
   "file_extension": ".py",
   "mimetype": "text/x-python",
   "name": "python",
   "nbconvert_exporter": "python",
   "pygments_lexer": "ipython3",
   "version": "3.10.4"
  }
 },
 "nbformat": 4,
 "nbformat_minor": 5
}
